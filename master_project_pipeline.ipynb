{
 "cells": [
  {
   "cell_type": "code",
   "execution_count": 1,
   "metadata": {
    "scrolled": true
   },
   "outputs": [],
   "source": [
    "import numpy as np\n",
    "import pandas as pd\n",
    "pd.set_option(\"display.max_columns\", None)\n",
    "\n",
    "%matplotlib inline\n",
    "import matplotlib.pyplot as plt\n",
    "import seaborn as sns\n",
    "\n",
    "from sklearn.model_selection import train_test_split\n",
    "from sklearn.preprocessing import LabelEncoder, OneHotEncoder, StandardScaler, MinMaxScaler\n",
    "from sklearn.linear_model import LogisticRegression\n",
    "from sklearn.tree import DecisionTreeClassifier\n",
    "from sklearn.ensemble import RandomForestClassifier\n",
    "from sklearn.neighbors import KNeighborsClassifier\n",
    "from sklearn.metrics import classification_report\n",
    "from sklearn.metrics import confusion_matrix\n",
    "from separate_library import prep_data, split_data, scale_data\n",
    "\n",
    "from scipy import stats\n",
    "\n",
    "import acquire as ac\n",
    "import prepare as pr\n",
    "\n",
    "import warnings\n",
    "warnings.filterwarnings(\"ignore\")"
   ]
  },
  {
   "cell_type": "code",
   "execution_count": 2,
   "metadata": {},
   "outputs": [
    {
     "name": "stdout",
     "output_type": "stream",
     "text": [
      "   train shape = (4218, 21)\n",
      "validate shape = (1407, 20)\n",
      "    test shape = (1407, 20)\n"
     ]
    }
   ],
   "source": [
    "df = ac.get_telco_data()\n",
    "encoder, train, validate, test = pr.prep_telco(df)\n",
    "print(f\"   train shape = {train.shape}\")\n",
    "print(f\"validate shape = {validate.shape}\")\n",
    "print(f\"    test shape = {test.shape}\")"
   ]
  },
  {
   "cell_type": "code",
   "execution_count": 3,
   "metadata": {
    "scrolled": true
   },
   "outputs": [
    {
     "data": {
      "text/html": [
       "<div>\n",
       "<style scoped>\n",
       "    .dataframe tbody tr th:only-of-type {\n",
       "        vertical-align: middle;\n",
       "    }\n",
       "\n",
       "    .dataframe tbody tr th {\n",
       "        vertical-align: top;\n",
       "    }\n",
       "\n",
       "    .dataframe thead th {\n",
       "        text-align: right;\n",
       "    }\n",
       "</style>\n",
       "<table border=\"1\" class=\"dataframe\">\n",
       "  <thead>\n",
       "    <tr style=\"text-align: right;\">\n",
       "      <th></th>\n",
       "      <th>customer_id</th>\n",
       "      <th>gender</th>\n",
       "      <th>senior_citizen</th>\n",
       "      <th>tenure</th>\n",
       "      <th>internet_service_type_id</th>\n",
       "      <th>internet_service_type</th>\n",
       "      <th>device_protection</th>\n",
       "      <th>tech_support</th>\n",
       "      <th>contract_type_id</th>\n",
       "      <th>contract_type</th>\n",
       "      <th>paperless_billing</th>\n",
       "      <th>payment_type_id</th>\n",
       "      <th>payment_type</th>\n",
       "      <th>monthly_charges</th>\n",
       "      <th>total_charges</th>\n",
       "      <th>churn</th>\n",
       "      <th>phone_service_type</th>\n",
       "      <th>family</th>\n",
       "      <th>streaming</th>\n",
       "      <th>online_protection</th>\n",
       "      <th>tenure_years</th>\n",
       "    </tr>\n",
       "  </thead>\n",
       "  <tbody>\n",
       "    <tr>\n",
       "      <td>5767</td>\n",
       "      <td>6885-PKOAM</td>\n",
       "      <td>Female</td>\n",
       "      <td>0</td>\n",
       "      <td>71</td>\n",
       "      <td>1</td>\n",
       "      <td>DSL</td>\n",
       "      <td>Yes</td>\n",
       "      <td>Yes</td>\n",
       "      <td>3</td>\n",
       "      <td>Two year</td>\n",
       "      <td>No</td>\n",
       "      <td>4</td>\n",
       "      <td>Credit card (automatic)</td>\n",
       "      <td>85.75</td>\n",
       "      <td>6223.80</td>\n",
       "      <td>0</td>\n",
       "      <td>Multiple lines</td>\n",
       "      <td>Partner</td>\n",
       "      <td>TV and movies</td>\n",
       "      <td>Security and backup</td>\n",
       "      <td>6.0</td>\n",
       "    </tr>\n",
       "    <tr>\n",
       "      <td>601</td>\n",
       "      <td>4923-ADWXJ</td>\n",
       "      <td>Female</td>\n",
       "      <td>0</td>\n",
       "      <td>25</td>\n",
       "      <td>1</td>\n",
       "      <td>DSL</td>\n",
       "      <td>No</td>\n",
       "      <td>Yes</td>\n",
       "      <td>1</td>\n",
       "      <td>Month-to-month</td>\n",
       "      <td>Yes</td>\n",
       "      <td>3</td>\n",
       "      <td>Bank transfer (automatic)</td>\n",
       "      <td>65.80</td>\n",
       "      <td>1679.65</td>\n",
       "      <td>0</td>\n",
       "      <td>Single line</td>\n",
       "      <td>Single</td>\n",
       "      <td>Movies</td>\n",
       "      <td>Backup</td>\n",
       "      <td>2.0</td>\n",
       "    </tr>\n",
       "    <tr>\n",
       "      <td>6469</td>\n",
       "      <td>1099-GODLO</td>\n",
       "      <td>Female</td>\n",
       "      <td>0</td>\n",
       "      <td>1</td>\n",
       "      <td>3</td>\n",
       "      <td>None</td>\n",
       "      <td>No internet service</td>\n",
       "      <td>No internet service</td>\n",
       "      <td>3</td>\n",
       "      <td>Two year</td>\n",
       "      <td>No</td>\n",
       "      <td>2</td>\n",
       "      <td>Mailed check</td>\n",
       "      <td>20.35</td>\n",
       "      <td>20.35</td>\n",
       "      <td>0</td>\n",
       "      <td>Single line</td>\n",
       "      <td>Partner and dependents</td>\n",
       "      <td>No internet service</td>\n",
       "      <td>No internet service</td>\n",
       "      <td>0.0</td>\n",
       "    </tr>\n",
       "    <tr>\n",
       "      <td>5729</td>\n",
       "      <td>6374-AFWOX</td>\n",
       "      <td>Male</td>\n",
       "      <td>0</td>\n",
       "      <td>46</td>\n",
       "      <td>1</td>\n",
       "      <td>DSL</td>\n",
       "      <td>Yes</td>\n",
       "      <td>Yes</td>\n",
       "      <td>3</td>\n",
       "      <td>Two year</td>\n",
       "      <td>No</td>\n",
       "      <td>2</td>\n",
       "      <td>Mailed check</td>\n",
       "      <td>65.65</td>\n",
       "      <td>3047.15</td>\n",
       "      <td>0</td>\n",
       "      <td>Single line</td>\n",
       "      <td>Partner</td>\n",
       "      <td>None</td>\n",
       "      <td>Security and backup</td>\n",
       "      <td>4.0</td>\n",
       "    </tr>\n",
       "    <tr>\n",
       "      <td>1163</td>\n",
       "      <td>9489-UTFKA</td>\n",
       "      <td>Male</td>\n",
       "      <td>1</td>\n",
       "      <td>8</td>\n",
       "      <td>1</td>\n",
       "      <td>DSL</td>\n",
       "      <td>No</td>\n",
       "      <td>No</td>\n",
       "      <td>1</td>\n",
       "      <td>Month-to-month</td>\n",
       "      <td>No</td>\n",
       "      <td>3</td>\n",
       "      <td>Bank transfer (automatic)</td>\n",
       "      <td>60.90</td>\n",
       "      <td>551.95</td>\n",
       "      <td>0</td>\n",
       "      <td>Single line</td>\n",
       "      <td>Partner</td>\n",
       "      <td>TV</td>\n",
       "      <td>Security</td>\n",
       "      <td>1.0</td>\n",
       "    </tr>\n",
       "  </tbody>\n",
       "</table>\n",
       "</div>"
      ],
      "text/plain": [
       "     customer_id  gender  senior_citizen  tenure  internet_service_type_id  \\\n",
       "5767  6885-PKOAM  Female               0      71                         1   \n",
       "601   4923-ADWXJ  Female               0      25                         1   \n",
       "6469  1099-GODLO  Female               0       1                         3   \n",
       "5729  6374-AFWOX    Male               0      46                         1   \n",
       "1163  9489-UTFKA    Male               1       8                         1   \n",
       "\n",
       "     internet_service_type    device_protection         tech_support  \\\n",
       "5767                   DSL                  Yes                  Yes   \n",
       "601                    DSL                   No                  Yes   \n",
       "6469                  None  No internet service  No internet service   \n",
       "5729                   DSL                  Yes                  Yes   \n",
       "1163                   DSL                   No                   No   \n",
       "\n",
       "      contract_type_id   contract_type paperless_billing  payment_type_id  \\\n",
       "5767                 3        Two year                No                4   \n",
       "601                  1  Month-to-month               Yes                3   \n",
       "6469                 3        Two year                No                2   \n",
       "5729                 3        Two year                No                2   \n",
       "1163                 1  Month-to-month                No                3   \n",
       "\n",
       "                   payment_type  monthly_charges  total_charges  churn  \\\n",
       "5767    Credit card (automatic)            85.75        6223.80      0   \n",
       "601   Bank transfer (automatic)            65.80        1679.65      0   \n",
       "6469               Mailed check            20.35          20.35      0   \n",
       "5729               Mailed check            65.65        3047.15      0   \n",
       "1163  Bank transfer (automatic)            60.90         551.95      0   \n",
       "\n",
       "     phone_service_type                  family            streaming  \\\n",
       "5767     Multiple lines                 Partner        TV and movies   \n",
       "601         Single line                  Single               Movies   \n",
       "6469        Single line  Partner and dependents  No internet service   \n",
       "5729        Single line                 Partner                 None   \n",
       "1163        Single line                 Partner                   TV   \n",
       "\n",
       "        online_protection  tenure_years  \n",
       "5767  Security and backup           6.0  \n",
       "601                Backup           2.0  \n",
       "6469  No internet service           0.0  \n",
       "5729  Security and backup           4.0  \n",
       "1163             Security           1.0  "
      ]
     },
     "execution_count": 3,
     "metadata": {},
     "output_type": "execute_result"
    }
   ],
   "source": [
    "train.head()"
   ]
  },
  {
   "cell_type": "markdown",
   "metadata": {},
   "source": [
    "---\n",
    "# Explore"
   ]
  },
  {
   "cell_type": "markdown",
   "metadata": {},
   "source": [
    "## 1. If a group is identified by tenure, is there a cohort or cohorts who have a higher rate of churn than other cohorts?"
   ]
  },
  {
   "cell_type": "markdown",
   "metadata": {},
   "source": [
    "$H_0$: The churn rate for customers whose tenure is less than or equal to one year is the same as all other customers\n",
    "\n",
    "$H_a$: The churn rate for customers whose tenure is less than or equal to one year is different than all other customers"
   ]
  },
  {
   "cell_type": "code",
   "execution_count": 4,
   "metadata": {},
   "outputs": [
    {
     "name": "stdout",
     "output_type": "stream",
     "text": [
      "t statistic = 14.767252115963558\n",
      "    p-value = 2.5543291149045378e-46\n",
      "\n",
      "Reject the null hypothesis\n"
     ]
    }
   ],
   "source": [
    "alpha = .001\n",
    "\n",
    "x = train[train.tenure_years <= 1].churn\n",
    "mu = train.churn.mean()\n",
    "\n",
    "tstat, p = stats.ttest_1samp(x, mu)\n",
    "print(f\"t statistic = {tstat}\")\n",
    "print(f\"    p-value = {p}\")\n",
    "print()\n",
    "if p < alpha:\n",
    "    print(\"Reject the null hypothesis\")\n",
    "else:\n",
    "    print(\"Fail to reject the null hypothesis\")"
   ]
  },
  {
   "cell_type": "code",
   "execution_count": 5,
   "metadata": {
    "scrolled": false
   },
   "outputs": [
    {
     "data": {
      "image/png": "[encoded data removed]",
      "text/plain": [
       "<Figure size 1152x576 with 1 Axes>"
      ]
     },
     "metadata": {
      "needs_background": "light"
     },
     "output_type": "display_data"
    }
   ],
   "source": [
    "# plotting churn rate by tenure months\n",
    "monthly = pd.DataFrame({\n",
    "    \"tenure\": np.sort(train.tenure.unique()),\n",
    "})\n",
    "\n",
    "monthly[\"churn_rate\"] = [((train.churn == 1) & (train.tenure == n)).sum() / (train.tenure == n).sum() for n in monthly.tenure]\n",
    "\n",
    "plt.figure(figsize=(16, 8))\n",
    "\n",
    "plt.title(\"Rate of Churn as Tenure Increases\")\n",
    "plt.plot(monthly.tenure, monthly.churn_rate)\n",
    "plt.text(0, .65, f\"{train[train.tenure == 1].churn.mean():.1%}\")\n",
    "plt.xlabel(\"Tenure in Months\")\n",
    "plt.ylabel(\"Churn Rate\")\n",
    "plt.ylim(0, .7)\n",
    "plt.show()"
   ]
  },
  {
   "cell_type": "markdown",
   "metadata": {},
   "source": [
    "> **Clearly, the rate of churn declines as the customer's tenure with the company increases.**"
   ]
  },
  {
   "cell_type": "code",
   "execution_count": 6,
   "metadata": {},
   "outputs": [
    {
     "data": {
      "image/png": "[encoded data removed]",
      "text/plain": [
       "<Figure size 1152x576 with 1 Axes>"
      ]
     },
     "metadata": {
      "needs_background": "light"
     },
     "output_type": "display_data"
    }
   ],
   "source": [
    "# plotting churn rate by tenure years\n",
    "yearly = pd.DataFrame({\n",
    "    \"tenure\": np.sort(train.tenure_years.unique()),\n",
    "})\n",
    "\n",
    "yearly[\"churn_rate\"] = [((train.churn == 1) & (train.tenure_years == n)).sum() / (train.tenure_years == n).sum() for n in yearly.tenure]\n",
    "\n",
    "plt.figure(figsize=(16, 8))\n",
    "\n",
    "plt.title(\"Rate of Churn as Tenure Increases\")\n",
    "plt.plot(yearly.tenure, yearly.churn_rate)\n",
    "plt.xlabel(\"Tenure in Years\")\n",
    "plt.ylabel(\"Churn Rate\")\n",
    "plt.show()"
   ]
  },
  {
   "cell_type": "code",
   "execution_count": 7,
   "metadata": {},
   "outputs": [
    {
     "data": {
      "image/png": "[encoded data removed]",
      "text/plain": [
       "<Figure size 1152x576 with 1 Axes>"
      ]
     },
     "metadata": {
      "needs_background": "light"
     },
     "output_type": "display_data"
    }
   ],
   "source": [
    "# plotting churn rate by tenure years binned\n",
    "train[\"tenure_years_binned\"] = pd.cut(train.tenure_years, bins=3, labels=[\"0 to 2 years\", \"3 to 4 years\", \"5 to 6 years\"])\n",
    "\n",
    "binned = pd.DataFrame({\n",
    "    \"tenure\": np.sort(train.tenure_years_binned.unique()),\n",
    "})\n",
    "\n",
    "binned[\"churn_rate\"] = [((train.churn == 1) & (train.tenure_years_binned == b)).sum() / (train.tenure_years_binned == b).sum() for b in binned.tenure]\n",
    "\n",
    "plt.figure(figsize=(16, 8))\n",
    "\n",
    "plt.title(\"Rate of Churn as Tenure Increases\")\n",
    "plt.plot(binned.tenure, binned.churn_rate)\n",
    "plt.xlabel(\"Tenure\")\n",
    "plt.ylabel(\"Churn Rate\")\n",
    "plt.show()"
   ]
  },
  {
   "cell_type": "markdown",
   "metadata": {},
   "source": [
    "---\n",
    "## 2. Are there features that indicate a higher propensity to churn? "
   ]
  },
  {
   "cell_type": "markdown",
   "metadata": {},
   "source": [
    "#### Churn Rate by Internet Service Type"
   ]
  },
  {
   "cell_type": "code",
   "execution_count": 8,
   "metadata": {},
   "outputs": [
    {
     "data": {
      "image/png": "[encoded data removed]",
      "text/plain": [
       "<Figure size 1152x576 with 1 Axes>"
      ]
     },
     "metadata": {
      "needs_background": "light"
     },
     "output_type": "display_data"
    }
   ],
   "source": [
    "plt.figure(figsize=(16, 8))\n",
    "\n",
    "plt.title(\"Churn Rate by Internet Service Type\")\n",
    "sns.barplot(train.internet_service_type, train.churn)\n",
    "plt.text(0, .23, f\"{train[train.internet_service_type == 'DSL'].churn.mean():.1%} Churn Rate\")\n",
    "plt.text(1, .11, f\"{train[train.internet_service_type == 'None'].churn.mean():.1%} Churn Rate\")\n",
    "plt.text(2, .45, f\"{train[train.internet_service_type == 'Fiber optic'].churn.mean():.1%} Churn Rate\")\n",
    "plt.xlabel(\"Internet Service Type\")\n",
    "plt.ylabel(\"Churn Rate\")\n",
    "plt.ylim(0, .5)\n",
    "plt.show()"
   ]
  },
  {
   "cell_type": "markdown",
   "metadata": {},
   "source": [
    "> Fiber optic internet service type seems to be a driver of churn. 41.3% of the customers with fiber optic internet service are likely to churn."
   ]
  },
  {
   "cell_type": "code",
   "execution_count": 9,
   "metadata": {},
   "outputs": [
    {
     "data": {
      "image/png": "[encoded data removed]",
      "text/plain": [
       "<Figure size 1152x576 with 2 Axes>"
      ]
     },
     "metadata": {
      "needs_background": "light"
     },
     "output_type": "display_data"
    }
   ],
   "source": [
    "plt.figure(figsize=(16, 8))\n",
    "\n",
    "ctab = pd.crosstab(index=train.internet_service_type, columns=train.churn, normalize=True)\n",
    "sns.heatmap(ctab, annot=True, cmap=\"Blues\")\n",
    "plt.xlabel(\"Churn\")\n",
    "plt.ylabel(\"Internet Service Type\")\n",
    "plt.xticks((.5, 1.5), (False, True))\n",
    "plt.show()"
   ]
  },
  {
   "cell_type": "markdown",
   "metadata": {},
   "source": [
    "> **Customers who are using fiber optic internet service and have churned make up 18% of all customers.**"
   ]
  },
  {
   "cell_type": "markdown",
   "metadata": {},
   "source": [
    "---\n",
    "#### Churn Rate by Phone Service Type"
   ]
  },
  {
   "cell_type": "code",
   "execution_count": 10,
   "metadata": {},
   "outputs": [
    {
     "data": {
      "image/png": "[encoded data removed]",
      "text/plain": [
       "<Figure size 1152x576 with 1 Axes>"
      ]
     },
     "metadata": {
      "needs_background": "light"
     },
     "output_type": "display_data"
    }
   ],
   "source": [
    "plt.figure(figsize=(16, 8))\n",
    "\n",
    "plt.title(\"Churn Rate by Phone Service Type\")\n",
    "sns.barplot(train.phone_service_type, train.churn)\n",
    "plt.text(0, .32, f\"{train[train.phone_service_type == 'Multiple lines'].churn.mean():.1%} Churn Rate\")\n",
    "plt.text(1, .29, f\"{train[train.phone_service_type == 'Single line'].churn.mean():.1%} Churn Rate\")\n",
    "plt.text(2, .29, f\"{train[train.phone_service_type == 'None'].churn.mean():.1%} Churn Rate\")\n",
    "plt.xlabel(\"Phone Service Type\")\n",
    "plt.ylabel(\"Churn Rate\")\n",
    "plt.ylim(0, .4)\n",
    "plt.show()"
   ]
  },
  {
   "cell_type": "markdown",
   "metadata": {},
   "source": [
    "> **There does not seem to be a significant difference in the churn rate when considering the phone service type**"
   ]
  },
  {
   "cell_type": "code",
   "execution_count": 11,
   "metadata": {},
   "outputs": [
    {
     "data": {
      "image/png": "[encoded data removed]",
      "text/plain": [
       "<Figure size 1152x576 with 2 Axes>"
      ]
     },
     "metadata": {
      "needs_background": "light"
     },
     "output_type": "display_data"
    }
   ],
   "source": [
    "plt.figure(figsize=(16, 8))\n",
    "\n",
    "ctab = pd.crosstab(index=train.phone_service_type, columns=train.churn, normalize=True)\n",
    "sns.heatmap(ctab, annot=True, cmap=\"Blues\")\n",
    "plt.xlabel(\"Churn\")\n",
    "plt.ylabel(\"Phone Service Type\")\n",
    "plt.xticks((.5, 1.5), (False, True))\n",
    "plt.show()"
   ]
  },
  {
   "cell_type": "markdown",
   "metadata": {},
   "source": [
    "---\n",
    "#### Churn Rate by Online Protection"
   ]
  },
  {
   "cell_type": "code",
   "execution_count": 12,
   "metadata": {},
   "outputs": [
    {
     "data": {
      "image/png": "[encoded data removed]",
      "text/plain": [
       "<Figure size 1152x576 with 1 Axes>"
      ]
     },
     "metadata": {
      "needs_background": "light"
     },
     "output_type": "display_data"
    }
   ],
   "source": [
    "plt.figure(figsize=(16, 8))\n",
    "\n",
    "plt.title(\"Churn Rate by Online Protection\")\n",
    "sns.barplot(train.online_protection, train.churn)\n",
    "plt.text(0, .15, f\"{train[train.online_protection == 'Security and backup'].churn.mean():.1%} Churn Rate\")\n",
    "plt.text(1, .37, f\"{train[train.online_protection == 'Backup'].churn.mean():.1%} Churn Rate\")\n",
    "plt.text(2, .11, f\"{train[train.online_protection == 'No internet service'].churn.mean():.1%} Churn Rate\")\n",
    "plt.text(3, .24, f\"{train[train.online_protection == 'Security'].churn.mean():.1%} Churn Rate\")\n",
    "plt.text(4, .52, f\"{train[train.online_protection == 'None'].churn.mean():.1%} Churn Rate\")\n",
    "plt.xlabel(\"Online Protection\")\n",
    "plt.ylabel(\"Churn Rate\")\n",
    "plt.ylim(0, .6)\n",
    "plt.show()"
   ]
  },
  {
   "cell_type": "markdown",
   "metadata": {},
   "source": [
    "> **47.5% of the customers that have no online protection churn.**"
   ]
  },
  {
   "cell_type": "code",
   "execution_count": 13,
   "metadata": {},
   "outputs": [
    {
     "data": {
      "image/png": "[encoded data removed]",
      "text/plain": [
       "<Figure size 1152x576 with 2 Axes>"
      ]
     },
     "metadata": {
      "needs_background": "light"
     },
     "output_type": "display_data"
    }
   ],
   "source": [
    "plt.figure(figsize=(16, 8))\n",
    "\n",
    "ctab = pd.crosstab(index=train.online_protection, columns=train.churn, normalize=True)\n",
    "sns.heatmap(ctab, annot=True, cmap=\"Blues\")\n",
    "plt.xlabel(\"Churn\")\n",
    "plt.ylabel(\"Online Protection\")\n",
    "plt.xticks((.5, 1.5), (False, True))\n",
    "plt.show()"
   ]
  },
  {
   "cell_type": "markdown",
   "metadata": {},
   "source": [
    "> **Customers who have no online protection plan and who have churned make up 15% of all customers.**"
   ]
  },
  {
   "cell_type": "markdown",
   "metadata": {},
   "source": [
    "---\n",
    "#### Churn Rate by Senior Citizen Status"
   ]
  },
  {
   "cell_type": "code",
   "execution_count": 14,
   "metadata": {
    "scrolled": false
   },
   "outputs": [
    {
     "data": {
      "image/png": "[encoded data removed]",
      "text/plain": [
       "<Figure size 1152x576 with 1 Axes>"
      ]
     },
     "metadata": {
      "needs_background": "light"
     },
     "output_type": "display_data"
    }
   ],
   "source": [
    "plt.figure(figsize=(16, 8))\n",
    "\n",
    "plt.title(\"Churn Rate by Senior Citizen Status\")\n",
    "sns.barplot(train.senior_citizen, train.churn)\n",
    "plt.text(0, .28, f\"{train[train.senior_citizen == 0].churn.mean():.1%} Churn Rate\")\n",
    "plt.text(1, .47, f\"{train[train.senior_citizen == 1].churn.mean():.1%} Churn Rate\")\n",
    "plt.xlabel(\"Senior Citizen Status\")\n",
    "plt.ylabel(\"Churn Rate\")\n",
    "plt.xticks((0, 1), (False, True))\n",
    "plt.ylim(0, .5)\n",
    "plt.show()"
   ]
  },
  {
   "cell_type": "markdown",
   "metadata": {},
   "source": [
    "> **40.2% of all senior citizens churn**"
   ]
  },
  {
   "cell_type": "code",
   "execution_count": 15,
   "metadata": {},
   "outputs": [
    {
     "data": {
      "image/png": "[encoded data removed]",
      "text/plain": [
       "<Figure size 1152x576 with 2 Axes>"
      ]
     },
     "metadata": {
      "needs_background": "light"
     },
     "output_type": "display_data"
    }
   ],
   "source": [
    "plt.figure(figsize=(16, 8))\n",
    "\n",
    "ctab = pd.crosstab(index=train.senior_citizen, columns=train.churn, normalize=True)\n",
    "sns.heatmap(ctab, annot=True, cmap=\"Blues\")\n",
    "plt.xlabel(\"Churn\")\n",
    "plt.ylabel(\"Senior Citizen\")\n",
    "plt.yticks((.5, 1.5), (False, True))\n",
    "plt.xticks((.5, 1.5), (False, True))\n",
    "plt.show()"
   ]
  },
  {
   "cell_type": "markdown",
   "metadata": {},
   "source": [
    "> **Customers who are not senior citizens and who have churned make up 20% of all customers.**"
   ]
  },
  {
   "cell_type": "markdown",
   "metadata": {},
   "source": [
    "---\n",
    "## 3. Is there a price threshold for specific services where the likelihood of churn increases once price for those services goes past that point? If so, what is that point for what service(s)?"
   ]
  },
  {
   "cell_type": "code",
   "execution_count": 16,
   "metadata": {},
   "outputs": [
    {
     "data": {
      "image/png": "[encoded data removed]",
      "text/plain": [
       "<Figure size 1152x576 with 1 Axes>"
      ]
     },
     "metadata": {
      "needs_background": "light"
     },
     "output_type": "display_data"
    }
   ],
   "source": [
    "# plotting churn rate by monthly_charges\n",
    "monthly_charges = pd.DataFrame({\n",
    "    \"charges\": np.sort(train.monthly_charges.round().unique()),\n",
    "})\n",
    "\n",
    "monthly_charges[\"churn_rate\"] = [((train.churn == 1) & (train.monthly_charges.round() == n)).sum() / (train.monthly_charges.round() == n).sum() for n in monthly_charges.charges]\n",
    "\n",
    "plt.figure(figsize=(16, 8))\n",
    "\n",
    "plt.title(\"Rate of Churn as Monthly Charges Increase\")\n",
    "plt.plot(monthly_charges.charges, monthly_charges.churn_rate)\n",
    "plt.xlabel(\"Monthly Charges in Dollars\")\n",
    "plt.ylabel(\"Churn Rate\")\n",
    "plt.show()"
   ]
  },
  {
   "cell_type": "code",
   "execution_count": 17,
   "metadata": {},
   "outputs": [],
   "source": [
    "# # plotting churn rate by monthly_charges\n",
    "# dsl_monthly_charges = pd.DataFrame({\n",
    "#     \"charges\": np.sort(train[train.internet_service_type == \"DSL\"].monthly_charges.round().unique()),\n",
    "# })\n",
    "\n",
    "# monthly_charges[\"churn_rate\"] = [((train.churn == 1) & (train.monthly_charges.round() == n)).sum() / (train.monthly_charges.round() == n).sum() for n in dsl_monthly_charges.charges]\n",
    "\n",
    "# plt.figure(figsize=(16, 8))\n",
    "\n",
    "# plt.title(\"Rate of Churn as Monthly Charges Increase\")\n",
    "# plt.plot(dsl_monthly_charges.charges, dsl_monthly_charges.churn_rate)\n",
    "# plt.xlabel(\"Monthly Charges in Dollars\")\n",
    "# plt.ylabel(\"Churn Rate\")\n",
    "# plt.show()"
   ]
  },
  {
   "cell_type": "markdown",
   "metadata": {},
   "source": [
    "---\n",
    "## 4. If we looked at churn rate for month-to-month customers after the 12th month and that of 1-year contract customers after the 12th month, are those rates comparable?"
   ]
  },
  {
   "cell_type": "markdown",
   "metadata": {},
   "source": [
    "$H_0$: The churn rate for month-to-month customers after the 12th month and that of 1-year contract customers after the 12th month is the same\n",
    "\n",
    "$H_a$: The churn rate for month-to-month customers after the 12th month and that of 1-year contract customers after the 12th month is different"
   ]
  },
  {
   "cell_type": "code",
   "execution_count": 18,
   "metadata": {},
   "outputs": [
    {
     "name": "stdout",
     "output_type": "stream",
     "text": [
      "t statistic = 10.939201115216212\n",
      "    p-value = 4.6357843354484826e-27\n",
      "\n",
      "Reject the null hypothesis\n",
      "\n",
      "The churn rate for month-to-month customers after the 12th month is 33.0%\n",
      "The churn rate for 1-year contract customers after the 12th month is 11.8%\n",
      "\n",
      "It can be stated with 99.9% certainty that month-to-month customers after the 12th month churn at almost\n",
      "3x the rate of 1-year contract customers after the 12th month.\n",
      "\n",
      "Takeaway: If we are trying to reduce churn, we should be more aggressive in contract aquisition\n"
     ]
    }
   ],
   "source": [
    "alpha = .001\n",
    "\n",
    "month_to_month = train[(train.contract_type == \"Month-to-month\") & (train.tenure > 12)].churn\n",
    "annual = train[(train.contract_type == \"One year\") & (train.tenure > 12)].churn\n",
    "\n",
    "tstat, p = stats.ttest_ind(month_to_month, annual)\n",
    "print(f\"t statistic = {tstat}\")\n",
    "print(f\"    p-value = {p}\")\n",
    "print()\n",
    "if p < alpha:\n",
    "    print(\"Reject the null hypothesis\")\n",
    "else:\n",
    "    print(\"Fail to reject the null hypothesis\")\n",
    "print()\n",
    "print(f\"The churn rate for month-to-month customers after the 12th month is {month_to_month.mean():.1%}\")\n",
    "print(f\"The churn rate for 1-year contract customers after the 12th month is {annual.mean():.1%}\")\n",
    "print()\n",
    "print(\"\"\"It can be stated with 99.9% certainty that month-to-month customers after the 12th month churn at almost\n",
    "3x the rate of 1-year contract customers after the 12th month.\n",
    "\n",
    "Takeaway: If we are trying to reduce churn, we should be more aggressive in contract aquisition\"\"\")"
   ]
  },
  {
   "cell_type": "markdown",
   "metadata": {},
   "source": [
    "---\n",
    "# Model"
   ]
  },
  {
   "cell_type": "markdown",
   "metadata": {},
   "source": [
    "1. build a function takes in all selected features, \n",
    "\n",
    "2. function produce accuray for each algirthom\n",
    "3. logistic regression is the baseline"
   ]
  },
  {
   "cell_type": "code",
   "execution_count": 19,
   "metadata": {
    "scrolled": false
   },
   "outputs": [
    {
     "data": {
      "text/html": [
       "<div>\n",
       "<style scoped>\n",
       "    .dataframe tbody tr th:only-of-type {\n",
       "        vertical-align: middle;\n",
       "    }\n",
       "\n",
       "    .dataframe tbody tr th {\n",
       "        vertical-align: top;\n",
       "    }\n",
       "\n",
       "    .dataframe thead th {\n",
       "        text-align: right;\n",
       "    }\n",
       "</style>\n",
       "<table border=\"1\" class=\"dataframe\">\n",
       "  <thead>\n",
       "    <tr style=\"text-align: right;\">\n",
       "      <th></th>\n",
       "      <th>senior_citizen</th>\n",
       "      <th>partner</th>\n",
       "      <th>dependents</th>\n",
       "      <th>tenure</th>\n",
       "      <th>phone_service</th>\n",
       "      <th>multiple_lines</th>\n",
       "      <th>internet_service_type_id</th>\n",
       "      <th>online_security</th>\n",
       "      <th>online_backup</th>\n",
       "      <th>device_protection</th>\n",
       "      <th>tech_support</th>\n",
       "      <th>streaming_tv</th>\n",
       "      <th>streaming_movies</th>\n",
       "      <th>contract_type_id</th>\n",
       "      <th>paperless_billing</th>\n",
       "      <th>payment_type_id</th>\n",
       "      <th>monthly_charges</th>\n",
       "      <th>churn</th>\n",
       "    </tr>\n",
       "  </thead>\n",
       "  <tbody>\n",
       "    <tr>\n",
       "      <td>3221</td>\n",
       "      <td>1</td>\n",
       "      <td>1</td>\n",
       "      <td>0</td>\n",
       "      <td>0.267606</td>\n",
       "      <td>1</td>\n",
       "      <td>0</td>\n",
       "      <td>2</td>\n",
       "      <td>0</td>\n",
       "      <td>0</td>\n",
       "      <td>0</td>\n",
       "      <td>0</td>\n",
       "      <td>1</td>\n",
       "      <td>1</td>\n",
       "      <td>2</td>\n",
       "      <td>1</td>\n",
       "      <td>3</td>\n",
       "      <td>0.724551</td>\n",
       "      <td>0</td>\n",
       "    </tr>\n",
       "    <tr>\n",
       "      <td>3076</td>\n",
       "      <td>0</td>\n",
       "      <td>0</td>\n",
       "      <td>0</td>\n",
       "      <td>0.746479</td>\n",
       "      <td>1</td>\n",
       "      <td>0</td>\n",
       "      <td>2</td>\n",
       "      <td>1</td>\n",
       "      <td>0</td>\n",
       "      <td>1</td>\n",
       "      <td>0</td>\n",
       "      <td>1</td>\n",
       "      <td>0</td>\n",
       "      <td>1</td>\n",
       "      <td>0</td>\n",
       "      <td>2</td>\n",
       "      <td>0.712575</td>\n",
       "      <td>0</td>\n",
       "    </tr>\n",
       "    <tr>\n",
       "      <td>4825</td>\n",
       "      <td>0</td>\n",
       "      <td>0</td>\n",
       "      <td>0</td>\n",
       "      <td>0.154930</td>\n",
       "      <td>1</td>\n",
       "      <td>0</td>\n",
       "      <td>1</td>\n",
       "      <td>0</td>\n",
       "      <td>1</td>\n",
       "      <td>0</td>\n",
       "      <td>0</td>\n",
       "      <td>0</td>\n",
       "      <td>0</td>\n",
       "      <td>1</td>\n",
       "      <td>1</td>\n",
       "      <td>1</td>\n",
       "      <td>0.309381</td>\n",
       "      <td>0</td>\n",
       "    </tr>\n",
       "    <tr>\n",
       "      <td>5571</td>\n",
       "      <td>0</td>\n",
       "      <td>0</td>\n",
       "      <td>0</td>\n",
       "      <td>0.000000</td>\n",
       "      <td>0</td>\n",
       "      <td>0</td>\n",
       "      <td>1</td>\n",
       "      <td>0</td>\n",
       "      <td>1</td>\n",
       "      <td>0</td>\n",
       "      <td>1</td>\n",
       "      <td>0</td>\n",
       "      <td>1</td>\n",
       "      <td>1</td>\n",
       "      <td>1</td>\n",
       "      <td>2</td>\n",
       "      <td>0.261976</td>\n",
       "      <td>1</td>\n",
       "    </tr>\n",
       "    <tr>\n",
       "      <td>6967</td>\n",
       "      <td>0</td>\n",
       "      <td>1</td>\n",
       "      <td>1</td>\n",
       "      <td>0.478873</td>\n",
       "      <td>0</td>\n",
       "      <td>0</td>\n",
       "      <td>1</td>\n",
       "      <td>1</td>\n",
       "      <td>0</td>\n",
       "      <td>0</td>\n",
       "      <td>1</td>\n",
       "      <td>1</td>\n",
       "      <td>0</td>\n",
       "      <td>3</td>\n",
       "      <td>1</td>\n",
       "      <td>4</td>\n",
       "      <td>0.278942</td>\n",
       "      <td>0</td>\n",
       "    </tr>\n",
       "  </tbody>\n",
       "</table>\n",
       "</div>"
      ],
      "text/plain": [
       "      senior_citizen  partner  dependents    tenure  phone_service  \\\n",
       "3221               1        1           0  0.267606              1   \n",
       "3076               0        0           0  0.746479              1   \n",
       "4825               0        0           0  0.154930              1   \n",
       "5571               0        0           0  0.000000              0   \n",
       "6967               0        1           1  0.478873              0   \n",
       "\n",
       "      multiple_lines  internet_service_type_id  online_security  \\\n",
       "3221               0                         2                0   \n",
       "3076               0                         2                1   \n",
       "4825               0                         1                0   \n",
       "5571               0                         1                0   \n",
       "6967               0                         1                1   \n",
       "\n",
       "      online_backup  device_protection  tech_support  streaming_tv  \\\n",
       "3221              0                  0             0             1   \n",
       "3076              0                  1             0             1   \n",
       "4825              1                  0             0             0   \n",
       "5571              1                  0             1             0   \n",
       "6967              0                  0             1             1   \n",
       "\n",
       "      streaming_movies  contract_type_id  paperless_billing  payment_type_id  \\\n",
       "3221                 1                 2                  1                3   \n",
       "3076                 0                 1                  0                2   \n",
       "4825                 0                 1                  1                1   \n",
       "5571                 1                 1                  1                2   \n",
       "6967                 0                 3                  1                4   \n",
       "\n",
       "      monthly_charges  churn  \n",
       "3221         0.724551      0  \n",
       "3076         0.712575      0  \n",
       "4825         0.309381      0  \n",
       "5571         0.261976      1  \n",
       "6967         0.278942      0  "
      ]
     },
     "execution_count": 19,
     "metadata": {},
     "output_type": "execute_result"
    }
   ],
   "source": [
    "# all the feature has been already encoded with separated preparation\n",
    "# split data\n",
    "df = prep_data()\n",
    "train, validate, test = split_data(df, .8)\n",
    "#scale datasets\n",
    "scaler, train, validate, test = scale_data(train, validate, test)\n",
    "train.head()"
   ]
  },
  {
   "cell_type": "code",
   "execution_count": 20,
   "metadata": {},
   "outputs": [],
   "source": [
    "# Name features \n",
    "X = train.drop(columns = 'churn').columns\n",
    "y = ['churn']"
   ]
  },
  {
   "cell_type": "code",
   "execution_count": 21,
   "metadata": {},
   "outputs": [],
   "source": [
    "# apply to train, validate, test\n",
    "X_train = train[X]\n",
    "y_train = train[y]\n",
    "X_validate = validate[X]\n",
    "y_validate = validate[y]\n",
    "X_test = test[X]\n",
    "y_test = test[y]"
   ]
  },
  {
   "cell_type": "markdown",
   "metadata": {},
   "source": [
    "## 2. Make a function"
   ]
  },
  {
   "cell_type": "code",
   "execution_count": 22,
   "metadata": {},
   "outputs": [],
   "source": [
    "def model_evaluation(X, y):\n",
    "    # get prepared data\n",
    "    df = prep_data()\n",
    "    # split data\n",
    "    train, validate, test = split_data(df, .8)\n",
    "    # assaign X, y to different data set\n",
    "    X_train = train[X]\n",
    "    y_train = train[y]\n",
    "    X_validate = validate[X]\n",
    "    y_validate = validate[y]\n",
    "    X_test = test[X]\n",
    "    y_test = test[y]\n",
    "    # train different models\n",
    "    ## logiestic regression\n",
    "    logit = LogisticRegression(random_state = 123)\n",
    "    logit.fit(X_train, y_train)\n",
    "    ## random forest\n",
    "    rf = RandomForestClassifier(bootstrap=True, \n",
    "                            class_weight=None, \n",
    "                            criterion='gini',\n",
    "                            min_samples_leaf=3,\n",
    "                            n_estimators=100,\n",
    "                            #max_depth=20, \n",
    "                            random_state=123)\n",
    "    rf.fit(X_train, y_train)\n",
    "    ## KNN\n",
    "    knn = KNeighborsClassifier(n_neighbors=6, weights='uniform')\n",
    "    knn.fit(X_train, y_train)\n",
    "    return pd.DataFrame({'logistic_regression': [logit.score(X_train, y_train),logit.score(X_validate, y_validate)],\n",
    "              'random_forest': [rf.score(X_train, y_train),rf.score(X_validate, y_validate)], \n",
    "              'KNN': [knn.score(X_train, y_train),knn.score(X_validate, y_validate)]}, index = ['train','validate'])"
   ]
  },
  {
   "cell_type": "markdown",
   "metadata": {},
   "source": [
    "## 3.  Try model performance with different features"
   ]
  },
  {
   "cell_type": "code",
   "execution_count": 23,
   "metadata": {},
   "outputs": [
    {
     "data": {
      "text/plain": [
       "Index(['senior_citizen', 'partner', 'dependents', 'tenure', 'phone_service',\n",
       "       'multiple_lines', 'internet_service_type_id', 'online_security',\n",
       "       'online_backup', 'device_protection', 'tech_support', 'streaming_tv',\n",
       "       'streaming_movies', 'contract_type_id', 'paperless_billing',\n",
       "       'payment_type_id', 'monthly_charges', 'churn'],\n",
       "      dtype='object')"
      ]
     },
     "execution_count": 23,
     "metadata": {},
     "output_type": "execute_result"
    }
   ],
   "source": [
    "df.columns"
   ]
  },
  {
   "cell_type": "markdown",
   "metadata": {},
   "source": [
    "### 1. Main features"
   ]
  },
  {
   "cell_type": "code",
   "execution_count": 24,
   "metadata": {},
   "outputs": [
    {
     "data": {
      "text/html": [
       "<div>\n",
       "<style scoped>\n",
       "    .dataframe tbody tr th:only-of-type {\n",
       "        vertical-align: middle;\n",
       "    }\n",
       "\n",
       "    .dataframe tbody tr th {\n",
       "        vertical-align: top;\n",
       "    }\n",
       "\n",
       "    .dataframe thead th {\n",
       "        text-align: right;\n",
       "    }\n",
       "</style>\n",
       "<table border=\"1\" class=\"dataframe\">\n",
       "  <thead>\n",
       "    <tr style=\"text-align: right;\">\n",
       "      <th></th>\n",
       "      <th>logistic_regression</th>\n",
       "      <th>random_forest</th>\n",
       "      <th>KNN</th>\n",
       "    </tr>\n",
       "  </thead>\n",
       "  <tbody>\n",
       "    <tr>\n",
       "      <td>train</td>\n",
       "      <td>0.788222</td>\n",
       "      <td>0.891778</td>\n",
       "      <td>0.818889</td>\n",
       "    </tr>\n",
       "    <tr>\n",
       "      <td>validate</td>\n",
       "      <td>0.819556</td>\n",
       "      <td>0.814222</td>\n",
       "      <td>0.808889</td>\n",
       "    </tr>\n",
       "  </tbody>\n",
       "</table>\n",
       "</div>"
      ],
      "text/plain": [
       "          logistic_regression  random_forest       KNN\n",
       "train                0.788222       0.891778  0.818889\n",
       "validate             0.819556       0.814222  0.808889"
      ]
     },
     "execution_count": 24,
     "metadata": {},
     "output_type": "execute_result"
    }
   ],
   "source": [
    "X = ['tenure','monthly_charges','contract_type_id','senior_citizen']\n",
    "y = ['churn']\n",
    "model_evaluation(X, y)"
   ]
  },
  {
   "cell_type": "markdown",
   "metadata": {},
   "source": [
    "### 2. Other features"
   ]
  },
  {
   "cell_type": "code",
   "execution_count": 25,
   "metadata": {},
   "outputs": [
    {
     "data": {
      "text/html": [
       "<div>\n",
       "<style scoped>\n",
       "    .dataframe tbody tr th:only-of-type {\n",
       "        vertical-align: middle;\n",
       "    }\n",
       "\n",
       "    .dataframe tbody tr th {\n",
       "        vertical-align: top;\n",
       "    }\n",
       "\n",
       "    .dataframe thead th {\n",
       "        text-align: right;\n",
       "    }\n",
       "</style>\n",
       "<table border=\"1\" class=\"dataframe\">\n",
       "  <thead>\n",
       "    <tr style=\"text-align: right;\">\n",
       "      <th></th>\n",
       "      <th>logistic_regression</th>\n",
       "      <th>random_forest</th>\n",
       "      <th>KNN</th>\n",
       "    </tr>\n",
       "  </thead>\n",
       "  <tbody>\n",
       "    <tr>\n",
       "      <td>train</td>\n",
       "      <td>0.758667</td>\n",
       "      <td>0.814222</td>\n",
       "      <td>0.796222</td>\n",
       "    </tr>\n",
       "    <tr>\n",
       "      <td>validate</td>\n",
       "      <td>0.791111</td>\n",
       "      <td>0.787556</td>\n",
       "      <td>0.776889</td>\n",
       "    </tr>\n",
       "  </tbody>\n",
       "</table>\n",
       "</div>"
      ],
      "text/plain": [
       "          logistic_regression  random_forest       KNN\n",
       "train                0.758667       0.814222  0.796222\n",
       "validate             0.791111       0.787556  0.776889"
      ]
     },
     "execution_count": 25,
     "metadata": {},
     "output_type": "execute_result"
    }
   ],
   "source": [
    "X = ['senior_citizen', 'partner', 'dependents', 'phone_service',\n",
    "       'multiple_lines', 'internet_service_type_id', 'online_security',\n",
    "       'online_backup', 'device_protection', 'tech_support', 'streaming_tv',\n",
    "       'streaming_movies', 'paperless_billing',\n",
    "       'payment_type_id']\n",
    "y = ['churn']\n",
    "model_evaluation(X, y)"
   ]
  },
  {
   "cell_type": "markdown",
   "metadata": {},
   "source": [
    "### 3. All features"
   ]
  },
  {
   "cell_type": "code",
   "execution_count": 26,
   "metadata": {},
   "outputs": [
    {
     "data": {
      "text/html": [
       "<div>\n",
       "<style scoped>\n",
       "    .dataframe tbody tr th:only-of-type {\n",
       "        vertical-align: middle;\n",
       "    }\n",
       "\n",
       "    .dataframe tbody tr th {\n",
       "        vertical-align: top;\n",
       "    }\n",
       "\n",
       "    .dataframe thead th {\n",
       "        text-align: right;\n",
       "    }\n",
       "</style>\n",
       "<table border=\"1\" class=\"dataframe\">\n",
       "  <thead>\n",
       "    <tr style=\"text-align: right;\">\n",
       "      <th></th>\n",
       "      <th>logistic_regression</th>\n",
       "      <th>random_forest</th>\n",
       "      <th>KNN</th>\n",
       "    </tr>\n",
       "  </thead>\n",
       "  <tbody>\n",
       "    <tr>\n",
       "      <td>train</td>\n",
       "      <td>0.798889</td>\n",
       "      <td>0.892222</td>\n",
       "      <td>0.824889</td>\n",
       "    </tr>\n",
       "    <tr>\n",
       "      <td>validate</td>\n",
       "      <td>0.836444</td>\n",
       "      <td>0.831111</td>\n",
       "      <td>0.810667</td>\n",
       "    </tr>\n",
       "  </tbody>\n",
       "</table>\n",
       "</div>"
      ],
      "text/plain": [
       "          logistic_regression  random_forest       KNN\n",
       "train                0.798889       0.892222  0.824889\n",
       "validate             0.836444       0.831111  0.810667"
      ]
     },
     "execution_count": 26,
     "metadata": {},
     "output_type": "execute_result"
    }
   ],
   "source": [
    "X = train.drop(columns = 'churn').columns\n",
    "y = ['churn']\n",
    "model_evaluation(X, y)"
   ]
  },
  {
   "cell_type": "markdown",
   "metadata": {},
   "source": [
    "**Takeaways**\n",
    "1. `tenure`,`monthly_charges`,`contract_type_id`: these three features give me a good accuracy, by adding other features, it did not increase acurracy very much\n",
    "2. I assume all the `other features` has high correlation with `onthly charges`\n",
    "3. `Random_forest` algrithm generate the best model performance, so this is what we are going to use."
   ]
  },
  {
   "cell_type": "markdown",
   "metadata": {},
   "source": [
    "## 4. Apply best performance model to the test data set,  get the report and csv file"
   ]
  },
  {
   "cell_type": "code",
   "execution_count": 27,
   "metadata": {},
   "outputs": [],
   "source": [
    "X = ['tenure','monthly_charges','contract_type_id','senior_citizen']\n",
    "y = ['churn']\n",
    "X_train = train[X]\n",
    "y_train = train[y]\n",
    "X_test = test[X]\n",
    "y_test = test[y]"
   ]
  },
  {
   "cell_type": "code",
   "execution_count": 28,
   "metadata": {},
   "outputs": [],
   "source": [
    "rf = RandomForestClassifier(bootstrap=True, \n",
    "                            class_weight=None, \n",
    "                            criterion='gini',\n",
    "                            min_samples_leaf=3,\n",
    "                            n_estimators=100,\n",
    "                            max_depth=20, \n",
    "                            random_state=123)\n",
    "rf.fit(X_train, y_train)\n",
    "\n",
    "y_pred = rf.predict(X_test)"
   ]
  },
  {
   "cell_type": "markdown",
   "metadata": {},
   "source": [
    "### 1. classifcation_report"
   ]
  },
  {
   "cell_type": "code",
   "execution_count": 29,
   "metadata": {},
   "outputs": [
    {
     "data": {
      "text/html": [
       "<div>\n",
       "<style scoped>\n",
       "    .dataframe tbody tr th:only-of-type {\n",
       "        vertical-align: middle;\n",
       "    }\n",
       "\n",
       "    .dataframe tbody tr th {\n",
       "        vertical-align: top;\n",
       "    }\n",
       "\n",
       "    .dataframe thead th {\n",
       "        text-align: right;\n",
       "    }\n",
       "</style>\n",
       "<table border=\"1\" class=\"dataframe\">\n",
       "  <thead>\n",
       "    <tr style=\"text-align: right;\">\n",
       "      <th></th>\n",
       "      <th>0</th>\n",
       "      <th>1</th>\n",
       "      <th>accuracy</th>\n",
       "      <th>macro avg</th>\n",
       "      <th>weighted avg</th>\n",
       "    </tr>\n",
       "  </thead>\n",
       "  <tbody>\n",
       "    <tr>\n",
       "      <td>precision</td>\n",
       "      <td>0.818018</td>\n",
       "      <td>0.565657</td>\n",
       "      <td>0.764748</td>\n",
       "      <td>0.691837</td>\n",
       "      <td>0.751654</td>\n",
       "    </tr>\n",
       "    <tr>\n",
       "      <td>recall</td>\n",
       "      <td>0.875603</td>\n",
       "      <td>0.454054</td>\n",
       "      <td>0.764748</td>\n",
       "      <td>0.664828</td>\n",
       "      <td>0.764748</td>\n",
       "    </tr>\n",
       "    <tr>\n",
       "      <td>f1-score</td>\n",
       "      <td>0.845831</td>\n",
       "      <td>0.503748</td>\n",
       "      <td>0.764748</td>\n",
       "      <td>0.674790</td>\n",
       "      <td>0.755873</td>\n",
       "    </tr>\n",
       "    <tr>\n",
       "      <td>support</td>\n",
       "      <td>1037.000000</td>\n",
       "      <td>370.000000</td>\n",
       "      <td>0.764748</td>\n",
       "      <td>1407.000000</td>\n",
       "      <td>1407.000000</td>\n",
       "    </tr>\n",
       "  </tbody>\n",
       "</table>\n",
       "</div>"
      ],
      "text/plain": [
       "                     0           1  accuracy    macro avg  weighted avg\n",
       "precision     0.818018    0.565657  0.764748     0.691837      0.751654\n",
       "recall        0.875603    0.454054  0.764748     0.664828      0.764748\n",
       "f1-score      0.845831    0.503748  0.764748     0.674790      0.755873\n",
       "support    1037.000000  370.000000  0.764748  1407.000000   1407.000000"
      ]
     },
     "execution_count": 29,
     "metadata": {},
     "output_type": "execute_result"
    }
   ],
   "source": [
    "pd.DataFrame(classification_report(y_test, y_pred, output_dict=True))"
   ]
  },
  {
   "cell_type": "markdown",
   "metadata": {},
   "source": [
    "### 2. Confusion matrix"
   ]
  },
  {
   "cell_type": "code",
   "execution_count": 30,
   "metadata": {},
   "outputs": [
    {
     "data": {
      "text/html": [
       "<div>\n",
       "<style scoped>\n",
       "    .dataframe tbody tr th:only-of-type {\n",
       "        vertical-align: middle;\n",
       "    }\n",
       "\n",
       "    .dataframe tbody tr th {\n",
       "        vertical-align: top;\n",
       "    }\n",
       "\n",
       "    .dataframe thead th {\n",
       "        text-align: right;\n",
       "    }\n",
       "</style>\n",
       "<table border=\"1\" class=\"dataframe\">\n",
       "  <thead>\n",
       "    <tr style=\"text-align: right;\">\n",
       "      <th></th>\n",
       "      <th>0</th>\n",
       "      <th>1</th>\n",
       "    </tr>\n",
       "  </thead>\n",
       "  <tbody>\n",
       "    <tr>\n",
       "      <td>0</td>\n",
       "      <td>908</td>\n",
       "      <td>129</td>\n",
       "    </tr>\n",
       "    <tr>\n",
       "      <td>1</td>\n",
       "      <td>202</td>\n",
       "      <td>168</td>\n",
       "    </tr>\n",
       "  </tbody>\n",
       "</table>\n",
       "</div>"
      ],
      "text/plain": [
       "     0    1\n",
       "0  908  129\n",
       "1  202  168"
      ]
     },
     "execution_count": 30,
     "metadata": {},
     "output_type": "execute_result"
    }
   ],
   "source": [
    "pd.DataFrame(confusion_matrix(y_test, y_pred))"
   ]
  },
  {
   "cell_type": "markdown",
   "metadata": {},
   "source": [
    "### 3. Accuracy"
   ]
  },
  {
   "cell_type": "code",
   "execution_count": 31,
   "metadata": {
    "scrolled": true
   },
   "outputs": [
    {
     "name": "stdout",
     "output_type": "stream",
     "text": [
      "Accuracy of random forest classifier on test set: 0.76\n"
     ]
    }
   ],
   "source": [
    "print('Accuracy of random forest classifier on test set: {:.2f}'\n",
    "     .format(rf.score(X_test, y_test)))"
   ]
  },
  {
   "cell_type": "markdown",
   "metadata": {},
   "source": [
    "### 4. Export prediction into a .csv file"
   ]
  },
  {
   "cell_type": "code",
   "execution_count": 32,
   "metadata": {
    "scrolled": false
   },
   "outputs": [
    {
     "data": {
      "text/html": [
       "<div>\n",
       "<style scoped>\n",
       "    .dataframe tbody tr th:only-of-type {\n",
       "        vertical-align: middle;\n",
       "    }\n",
       "\n",
       "    .dataframe tbody tr th {\n",
       "        vertical-align: top;\n",
       "    }\n",
       "\n",
       "    .dataframe thead th {\n",
       "        text-align: right;\n",
       "    }\n",
       "</style>\n",
       "<table border=\"1\" class=\"dataframe\">\n",
       "  <thead>\n",
       "    <tr style=\"text-align: right;\">\n",
       "      <th></th>\n",
       "      <th>customer_id</th>\n",
       "      <th>tenure</th>\n",
       "      <th>monthly_charges</th>\n",
       "      <th>contract_type_id</th>\n",
       "      <th>senior_citizen</th>\n",
       "      <th>churn</th>\n",
       "    </tr>\n",
       "  </thead>\n",
       "  <tbody>\n",
       "    <tr>\n",
       "      <td>0</td>\n",
       "      <td>0003-MKNFE</td>\n",
       "      <td>9</td>\n",
       "      <td>59.9</td>\n",
       "      <td>1</td>\n",
       "      <td>0</td>\n",
       "      <td>No</td>\n",
       "    </tr>\n",
       "    <tr>\n",
       "      <td>1</td>\n",
       "      <td>0013-MHZWF</td>\n",
       "      <td>9</td>\n",
       "      <td>69.4</td>\n",
       "      <td>1</td>\n",
       "      <td>0</td>\n",
       "      <td>No</td>\n",
       "    </tr>\n",
       "    <tr>\n",
       "      <td>2</td>\n",
       "      <td>0015-UOCOJ</td>\n",
       "      <td>7</td>\n",
       "      <td>48.2</td>\n",
       "      <td>1</td>\n",
       "      <td>1</td>\n",
       "      <td>No</td>\n",
       "    </tr>\n",
       "    <tr>\n",
       "      <td>3</td>\n",
       "      <td>0023-HGHWL</td>\n",
       "      <td>1</td>\n",
       "      <td>25.1</td>\n",
       "      <td>1</td>\n",
       "      <td>1</td>\n",
       "      <td>Yes</td>\n",
       "    </tr>\n",
       "    <tr>\n",
       "      <td>4</td>\n",
       "      <td>0032-PGELS</td>\n",
       "      <td>1</td>\n",
       "      <td>30.5</td>\n",
       "      <td>1</td>\n",
       "      <td>0</td>\n",
       "      <td>Yes</td>\n",
       "    </tr>\n",
       "  </tbody>\n",
       "</table>\n",
       "</div>"
      ],
      "text/plain": [
       "  customer_id  tenure  monthly_charges  contract_type_id  senior_citizen churn\n",
       "0  0003-MKNFE       9             59.9                 1               0    No\n",
       "1  0013-MHZWF       9             69.4                 1               0    No\n",
       "2  0015-UOCOJ       7             48.2                 1               1    No\n",
       "3  0023-HGHWL       1             25.1                 1               1   Yes\n",
       "4  0032-PGELS       1             30.5                 1               0   Yes"
      ]
     },
     "execution_count": 32,
     "metadata": {},
     "output_type": "execute_result"
    }
   ],
   "source": [
    "df = ac.get_telco_data()\n",
    "df = df[['customer_id','tenure','monthly_charges','contract_type_id','senior_citizen','churn']]\n",
    "df.head()"
   ]
  },
  {
   "cell_type": "code",
   "execution_count": 33,
   "metadata": {
    "scrolled": false
   },
   "outputs": [
    {
     "data": {
      "text/html": [
       "<div>\n",
       "<style scoped>\n",
       "    .dataframe tbody tr th:only-of-type {\n",
       "        vertical-align: middle;\n",
       "    }\n",
       "\n",
       "    .dataframe tbody tr th {\n",
       "        vertical-align: top;\n",
       "    }\n",
       "\n",
       "    .dataframe thead th {\n",
       "        text-align: right;\n",
       "    }\n",
       "</style>\n",
       "<table border=\"1\" class=\"dataframe\">\n",
       "  <thead>\n",
       "    <tr style=\"text-align: right;\">\n",
       "      <th></th>\n",
       "      <th>customer_id</th>\n",
       "      <th>tenure</th>\n",
       "      <th>monthly_charges</th>\n",
       "      <th>contract_type_id</th>\n",
       "      <th>senior_citizen</th>\n",
       "      <th>churn</th>\n",
       "    </tr>\n",
       "  </thead>\n",
       "  <tbody>\n",
       "    <tr>\n",
       "      <td>0</td>\n",
       "      <td>0003-MKNFE</td>\n",
       "      <td>0.112676</td>\n",
       "      <td>0.414172</td>\n",
       "      <td>1</td>\n",
       "      <td>0</td>\n",
       "      <td>No</td>\n",
       "    </tr>\n",
       "    <tr>\n",
       "      <td>1</td>\n",
       "      <td>0013-MHZWF</td>\n",
       "      <td>0.112676</td>\n",
       "      <td>0.508982</td>\n",
       "      <td>1</td>\n",
       "      <td>0</td>\n",
       "      <td>No</td>\n",
       "    </tr>\n",
       "    <tr>\n",
       "      <td>2</td>\n",
       "      <td>0015-UOCOJ</td>\n",
       "      <td>0.084507</td>\n",
       "      <td>0.297405</td>\n",
       "      <td>1</td>\n",
       "      <td>1</td>\n",
       "      <td>No</td>\n",
       "    </tr>\n",
       "    <tr>\n",
       "      <td>3</td>\n",
       "      <td>0023-HGHWL</td>\n",
       "      <td>0.000000</td>\n",
       "      <td>0.066866</td>\n",
       "      <td>1</td>\n",
       "      <td>1</td>\n",
       "      <td>Yes</td>\n",
       "    </tr>\n",
       "    <tr>\n",
       "      <td>4</td>\n",
       "      <td>0032-PGELS</td>\n",
       "      <td>0.000000</td>\n",
       "      <td>0.120758</td>\n",
       "      <td>1</td>\n",
       "      <td>0</td>\n",
       "      <td>Yes</td>\n",
       "    </tr>\n",
       "  </tbody>\n",
       "</table>\n",
       "</div>"
      ],
      "text/plain": [
       "  customer_id    tenure  monthly_charges  contract_type_id  senior_citizen  \\\n",
       "0  0003-MKNFE  0.112676         0.414172                 1               0   \n",
       "1  0013-MHZWF  0.112676         0.508982                 1               0   \n",
       "2  0015-UOCOJ  0.084507         0.297405                 1               1   \n",
       "3  0023-HGHWL  0.000000         0.066866                 1               1   \n",
       "4  0032-PGELS  0.000000         0.120758                 1               0   \n",
       "\n",
       "  churn  \n",
       "0    No  \n",
       "1    No  \n",
       "2    No  \n",
       "3   Yes  \n",
       "4   Yes  "
      ]
     },
     "execution_count": 33,
     "metadata": {},
     "output_type": "execute_result"
    }
   ],
   "source": [
    "df[[\"tenure\", \"monthly_charges\"]] = scaler.transform(df[[\"tenure\", \"monthly_charges\"]])\n",
    "df.head()"
   ]
  },
  {
   "cell_type": "code",
   "execution_count": 34,
   "metadata": {},
   "outputs": [],
   "source": [
    "df['predicted']= rf.predict(df[['tenure',\n",
    "                                'monthly_charges',\n",
    "                                'contract_type_id',\n",
    "                                'senior_citizen']])"
   ]
  },
  {
   "cell_type": "code",
   "execution_count": 35,
   "metadata": {},
   "outputs": [
    {
     "data": {
      "text/html": [
       "<div>\n",
       "<style scoped>\n",
       "    .dataframe tbody tr th:only-of-type {\n",
       "        vertical-align: middle;\n",
       "    }\n",
       "\n",
       "    .dataframe tbody tr th {\n",
       "        vertical-align: top;\n",
       "    }\n",
       "\n",
       "    .dataframe thead th {\n",
       "        text-align: right;\n",
       "    }\n",
       "</style>\n",
       "<table border=\"1\" class=\"dataframe\">\n",
       "  <thead>\n",
       "    <tr style=\"text-align: right;\">\n",
       "      <th></th>\n",
       "      <th>customer_id</th>\n",
       "      <th>tenure</th>\n",
       "      <th>monthly_charges</th>\n",
       "      <th>contract_type_id</th>\n",
       "      <th>senior_citizen</th>\n",
       "      <th>churn</th>\n",
       "      <th>predicted</th>\n",
       "    </tr>\n",
       "  </thead>\n",
       "  <tbody>\n",
       "    <tr>\n",
       "      <td>0</td>\n",
       "      <td>0003-MKNFE</td>\n",
       "      <td>0.112676</td>\n",
       "      <td>0.414172</td>\n",
       "      <td>1</td>\n",
       "      <td>0</td>\n",
       "      <td>No</td>\n",
       "      <td>No</td>\n",
       "    </tr>\n",
       "    <tr>\n",
       "      <td>1</td>\n",
       "      <td>0013-MHZWF</td>\n",
       "      <td>0.112676</td>\n",
       "      <td>0.508982</td>\n",
       "      <td>1</td>\n",
       "      <td>0</td>\n",
       "      <td>No</td>\n",
       "      <td>No</td>\n",
       "    </tr>\n",
       "    <tr>\n",
       "      <td>2</td>\n",
       "      <td>0015-UOCOJ</td>\n",
       "      <td>0.084507</td>\n",
       "      <td>0.297405</td>\n",
       "      <td>1</td>\n",
       "      <td>1</td>\n",
       "      <td>No</td>\n",
       "      <td>No</td>\n",
       "    </tr>\n",
       "    <tr>\n",
       "      <td>3</td>\n",
       "      <td>0023-HGHWL</td>\n",
       "      <td>0.000000</td>\n",
       "      <td>0.066866</td>\n",
       "      <td>1</td>\n",
       "      <td>1</td>\n",
       "      <td>Yes</td>\n",
       "      <td>Yes</td>\n",
       "    </tr>\n",
       "    <tr>\n",
       "      <td>4</td>\n",
       "      <td>0032-PGELS</td>\n",
       "      <td>0.000000</td>\n",
       "      <td>0.120758</td>\n",
       "      <td>1</td>\n",
       "      <td>0</td>\n",
       "      <td>Yes</td>\n",
       "      <td>Yes</td>\n",
       "    </tr>\n",
       "  </tbody>\n",
       "</table>\n",
       "</div>"
      ],
      "text/plain": [
       "  customer_id    tenure  monthly_charges  contract_type_id  senior_citizen  \\\n",
       "0  0003-MKNFE  0.112676         0.414172                 1               0   \n",
       "1  0013-MHZWF  0.112676         0.508982                 1               0   \n",
       "2  0015-UOCOJ  0.084507         0.297405                 1               1   \n",
       "3  0023-HGHWL  0.000000         0.066866                 1               1   \n",
       "4  0032-PGELS  0.000000         0.120758                 1               0   \n",
       "\n",
       "  churn predicted  \n",
       "0    No        No  \n",
       "1    No        No  \n",
       "2    No        No  \n",
       "3   Yes       Yes  \n",
       "4   Yes       Yes  "
      ]
     },
     "execution_count": 35,
     "metadata": {},
     "output_type": "execute_result"
    }
   ],
   "source": [
    "df['predicted'] = df.predicted.apply(lambda x: 'Yes' if x == 1 else 'No')\n",
    "df.head()"
   ]
  },
  {
   "cell_type": "code",
   "execution_count": 36,
   "metadata": {},
   "outputs": [
    {
     "data": {
      "text/html": [
       "<div>\n",
       "<style scoped>\n",
       "    .dataframe tbody tr th:only-of-type {\n",
       "        vertical-align: middle;\n",
       "    }\n",
       "\n",
       "    .dataframe tbody tr th {\n",
       "        vertical-align: top;\n",
       "    }\n",
       "\n",
       "    .dataframe thead th {\n",
       "        text-align: right;\n",
       "    }\n",
       "</style>\n",
       "<table border=\"1\" class=\"dataframe\">\n",
       "  <thead>\n",
       "    <tr style=\"text-align: right;\">\n",
       "      <th></th>\n",
       "      <th>customer_id</th>\n",
       "      <th>actual</th>\n",
       "      <th>predicted</th>\n",
       "    </tr>\n",
       "  </thead>\n",
       "  <tbody>\n",
       "    <tr>\n",
       "      <td>0</td>\n",
       "      <td>0003-MKNFE</td>\n",
       "      <td>No</td>\n",
       "      <td>No</td>\n",
       "    </tr>\n",
       "    <tr>\n",
       "      <td>1</td>\n",
       "      <td>0013-MHZWF</td>\n",
       "      <td>No</td>\n",
       "      <td>No</td>\n",
       "    </tr>\n",
       "    <tr>\n",
       "      <td>2</td>\n",
       "      <td>0015-UOCOJ</td>\n",
       "      <td>No</td>\n",
       "      <td>No</td>\n",
       "    </tr>\n",
       "    <tr>\n",
       "      <td>3</td>\n",
       "      <td>0023-HGHWL</td>\n",
       "      <td>Yes</td>\n",
       "      <td>Yes</td>\n",
       "    </tr>\n",
       "    <tr>\n",
       "      <td>4</td>\n",
       "      <td>0032-PGELS</td>\n",
       "      <td>Yes</td>\n",
       "      <td>Yes</td>\n",
       "    </tr>\n",
       "  </tbody>\n",
       "</table>\n",
       "</div>"
      ],
      "text/plain": [
       "  customer_id actual predicted\n",
       "0  0003-MKNFE     No        No\n",
       "1  0013-MHZWF     No        No\n",
       "2  0015-UOCOJ     No        No\n",
       "3  0023-HGHWL    Yes       Yes\n",
       "4  0032-PGELS    Yes       Yes"
      ]
     },
     "execution_count": 36,
     "metadata": {},
     "output_type": "execute_result"
    }
   ],
   "source": [
    "df = df.rename(columns = {'churn': 'actual'})\n",
    "df = df[['customer_id','actual','predicted']]\n",
    "df.head()"
   ]
  },
  {
   "cell_type": "code",
   "execution_count": 37,
   "metadata": {},
   "outputs": [],
   "source": [
    "#df.to_csv('prediction.csv')"
   ]
  },
  {
   "cell_type": "code",
   "execution_count": null,
   "metadata": {},
   "outputs": [],
   "source": []
  },
  {
   "cell_type": "code",
   "execution_count": null,
   "metadata": {},
   "outputs": [],
   "source": []
  }
 ],
 "metadata": {
  "kernelspec": {
   "display_name": "Python 3",
   "language": "python",
   "name": "python3"
  },
  "language_info": {
   "codemirror_mode": {
    "name": "ipython",
    "version": 3
   },
   "file_extension": ".py",
   "mimetype": "text/x-python",
   "name": "python",
   "nbconvert_exporter": "python",
   "pygments_lexer": "ipython3",
   "version": "3.7.4"
  }
 },
 "nbformat": 4,
 "nbformat_minor": 2
}
