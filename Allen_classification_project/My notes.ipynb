{
 "cells": [
  {
   "cell_type": "markdown",
   "metadata": {},
   "source": [
    "# Notes"
   ]
  },
  {
   "cell_type": "markdown",
   "metadata": {},
   "source": [
    "##  How do I select features among so many features."
   ]
  },
  {
   "cell_type": "markdown",
   "metadata": {},
   "source": [
    "1. Percent of missing values\n",
    "2. Amount of variation\n",
    "3. parawise correlation\n",
    "4. correlation with the target\n",
    "5. Forward/backward/stepwise selection\n",
    "    - run some kind of loop to try every features\n",
    "6. Tree based "
   ]
  },
  {
   "cell_type": "markdown",
   "metadata": {},
   "source": [
    "### Features\n",
    "- tenure\n",
    "- monthly charges\n",
    "- phone/internet\n",
    "- monthly charges vs senior multiline are they correlated?"
   ]
  },
  {
   "cell_type": "markdown",
   "metadata": {},
   "source": [
    "## 2. What model should I use among those foure?\n",
    "1. logistic regression\n",
    "2. Decesion tree\n",
    "3. Random forest\n",
    "4. K nearest neighboure"
   ]
  },
  {
   "cell_type": "markdown",
   "metadata": {},
   "source": [
    "###  Model\n",
    "- Baseline: logistic regression\n",
    "- Algithom: Random Forest, KNN\n"
   ]
  }
 ],
 "metadata": {
  "kernelspec": {
   "display_name": "Python 3",
   "language": "python",
   "name": "python3"
  },
  "language_info": {
   "codemirror_mode": {
    "name": "ipython",
    "version": 3
   },
   "file_extension": ".py",
   "mimetype": "text/x-python",
   "name": "python",
   "nbconvert_exporter": "python",
   "pygments_lexer": "ipython3",
   "version": "3.7.4"
  }
 },
 "nbformat": 4,
 "nbformat_minor": 2
}
