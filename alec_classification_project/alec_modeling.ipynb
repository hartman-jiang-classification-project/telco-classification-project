{
 "cells": [
  {
   "cell_type": "code",
   "execution_count": 1,
   "metadata": {},
   "outputs": [],
   "source": [
    "import numpy as np\n",
    "import pandas as pd\n",
    "pd.set_option(\"display.max_columns\", None)\n",
    "\n",
    "%matplotlib inline\n",
    "import matplotlib.pyplot as plt\n",
    "import seaborn as sns\n",
    "\n",
    "from sklearn.model_selection import train_test_split\n",
    "from sklearn.preprocessing import LabelEncoder, OneHotEncoder, StandardScaler, MinMaxScaler\n",
    "from sklearn.linear_model import LogisticRegression\n",
    "from sklearn.tree import DecisionTreeClassifier\n",
    "from sklearn.ensemble import RandomForestClassifier\n",
    "from sklearn.neighbors import KNeighborsClassifier\n",
    "from sklearn.metrics import classification_report, confusion_matrix\n",
    "\n",
    "from scipy import stats\n",
    "\n",
    "import acquire as ac\n",
    "import prepare as pr\n",
    "\n",
    "import warnings\n",
    "warnings.filterwarnings(\"ignore\")"
   ]
  },
  {
   "cell_type": "code",
   "execution_count": 2,
   "metadata": {},
   "outputs": [
    {
     "name": "stdout",
     "output_type": "stream",
     "text": [
      "   train shape = (4218, 21)\n",
      "validate shape = (1407, 20)\n",
      "    test shape = (1407, 20)\n"
     ]
    }
   ],
   "source": [
    "df = ac.get_telco_data()\n",
    "encoder, train, validate, test = pr.prep_telco(df)\n",
    "scaler, train, validate, test = pr.min_max_scaler(train, validate, test)\n",
    "print(f\"   train shape = {train.shape}\")\n",
    "print(f\"validate shape = {validate.shape}\")\n",
    "print(f\"    test shape = {test.shape}\")"
   ]
  },
  {
   "cell_type": "code",
   "execution_count": 3,
   "metadata": {},
   "outputs": [
    {
     "data": {
      "text/html": [
       "<div>\n",
       "<style scoped>\n",
       "    .dataframe tbody tr th:only-of-type {\n",
       "        vertical-align: middle;\n",
       "    }\n",
       "\n",
       "    .dataframe tbody tr th {\n",
       "        vertical-align: top;\n",
       "    }\n",
       "\n",
       "    .dataframe thead th {\n",
       "        text-align: right;\n",
       "    }\n",
       "</style>\n",
       "<table border=\"1\" class=\"dataframe\">\n",
       "  <thead>\n",
       "    <tr style=\"text-align: right;\">\n",
       "      <th></th>\n",
       "      <th>customer_id</th>\n",
       "      <th>gender</th>\n",
       "      <th>senior_citizen</th>\n",
       "      <th>tenure</th>\n",
       "      <th>internet_service_type_id</th>\n",
       "      <th>internet_service_type</th>\n",
       "      <th>device_protection</th>\n",
       "      <th>tech_support</th>\n",
       "      <th>contract_type_id</th>\n",
       "      <th>contract_type</th>\n",
       "      <th>paperless_billing</th>\n",
       "      <th>payment_type_id</th>\n",
       "      <th>payment_type</th>\n",
       "      <th>monthly_charges</th>\n",
       "      <th>total_charges</th>\n",
       "      <th>churn</th>\n",
       "      <th>phone_service_type</th>\n",
       "      <th>family</th>\n",
       "      <th>streaming</th>\n",
       "      <th>online_protection</th>\n",
       "      <th>tenure_years</th>\n",
       "    </tr>\n",
       "  </thead>\n",
       "  <tbody>\n",
       "    <tr>\n",
       "      <th>5767</th>\n",
       "      <td>6885-PKOAM</td>\n",
       "      <td>Female</td>\n",
       "      <td>0</td>\n",
       "      <td>0.985915</td>\n",
       "      <td>1</td>\n",
       "      <td>DSL</td>\n",
       "      <td>Yes</td>\n",
       "      <td>Yes</td>\n",
       "      <td>3</td>\n",
       "      <td>Two year</td>\n",
       "      <td>No</td>\n",
       "      <td>4</td>\n",
       "      <td>Credit card (automatic)</td>\n",
       "      <td>0.671642</td>\n",
       "      <td>6223.80</td>\n",
       "      <td>0</td>\n",
       "      <td>Multiple lines</td>\n",
       "      <td>Partner</td>\n",
       "      <td>TV and movies</td>\n",
       "      <td>Security and backup</td>\n",
       "      <td>6.0</td>\n",
       "    </tr>\n",
       "    <tr>\n",
       "      <th>601</th>\n",
       "      <td>4923-ADWXJ</td>\n",
       "      <td>Female</td>\n",
       "      <td>0</td>\n",
       "      <td>0.338028</td>\n",
       "      <td>1</td>\n",
       "      <td>DSL</td>\n",
       "      <td>No</td>\n",
       "      <td>Yes</td>\n",
       "      <td>1</td>\n",
       "      <td>Month-to-month</td>\n",
       "      <td>Yes</td>\n",
       "      <td>3</td>\n",
       "      <td>Bank transfer (automatic)</td>\n",
       "      <td>0.473134</td>\n",
       "      <td>1679.65</td>\n",
       "      <td>0</td>\n",
       "      <td>Single line</td>\n",
       "      <td>Single</td>\n",
       "      <td>Movies</td>\n",
       "      <td>Backup</td>\n",
       "      <td>2.0</td>\n",
       "    </tr>\n",
       "    <tr>\n",
       "      <th>6469</th>\n",
       "      <td>1099-GODLO</td>\n",
       "      <td>Female</td>\n",
       "      <td>0</td>\n",
       "      <td>0.000000</td>\n",
       "      <td>3</td>\n",
       "      <td>None</td>\n",
       "      <td>No internet service</td>\n",
       "      <td>No internet service</td>\n",
       "      <td>3</td>\n",
       "      <td>Two year</td>\n",
       "      <td>No</td>\n",
       "      <td>2</td>\n",
       "      <td>Mailed check</td>\n",
       "      <td>0.020896</td>\n",
       "      <td>20.35</td>\n",
       "      <td>0</td>\n",
       "      <td>Single line</td>\n",
       "      <td>Partner and dependents</td>\n",
       "      <td>No internet service</td>\n",
       "      <td>No internet service</td>\n",
       "      <td>0.0</td>\n",
       "    </tr>\n",
       "    <tr>\n",
       "      <th>5729</th>\n",
       "      <td>6374-AFWOX</td>\n",
       "      <td>Male</td>\n",
       "      <td>0</td>\n",
       "      <td>0.633803</td>\n",
       "      <td>1</td>\n",
       "      <td>DSL</td>\n",
       "      <td>Yes</td>\n",
       "      <td>Yes</td>\n",
       "      <td>3</td>\n",
       "      <td>Two year</td>\n",
       "      <td>No</td>\n",
       "      <td>2</td>\n",
       "      <td>Mailed check</td>\n",
       "      <td>0.471642</td>\n",
       "      <td>3047.15</td>\n",
       "      <td>0</td>\n",
       "      <td>Single line</td>\n",
       "      <td>Partner</td>\n",
       "      <td>None</td>\n",
       "      <td>Security and backup</td>\n",
       "      <td>4.0</td>\n",
       "    </tr>\n",
       "    <tr>\n",
       "      <th>1163</th>\n",
       "      <td>9489-UTFKA</td>\n",
       "      <td>Male</td>\n",
       "      <td>1</td>\n",
       "      <td>0.098592</td>\n",
       "      <td>1</td>\n",
       "      <td>DSL</td>\n",
       "      <td>No</td>\n",
       "      <td>No</td>\n",
       "      <td>1</td>\n",
       "      <td>Month-to-month</td>\n",
       "      <td>No</td>\n",
       "      <td>3</td>\n",
       "      <td>Bank transfer (automatic)</td>\n",
       "      <td>0.424378</td>\n",
       "      <td>551.95</td>\n",
       "      <td>0</td>\n",
       "      <td>Single line</td>\n",
       "      <td>Partner</td>\n",
       "      <td>TV</td>\n",
       "      <td>Security</td>\n",
       "      <td>1.0</td>\n",
       "    </tr>\n",
       "  </tbody>\n",
       "</table>\n",
       "</div>"
      ],
      "text/plain": [
       "     customer_id  gender  senior_citizen    tenure  internet_service_type_id  \\\n",
       "5767  6885-PKOAM  Female               0  0.985915                         1   \n",
       "601   4923-ADWXJ  Female               0  0.338028                         1   \n",
       "6469  1099-GODLO  Female               0  0.000000                         3   \n",
       "5729  6374-AFWOX    Male               0  0.633803                         1   \n",
       "1163  9489-UTFKA    Male               1  0.098592                         1   \n",
       "\n",
       "     internet_service_type    device_protection         tech_support  \\\n",
       "5767                   DSL                  Yes                  Yes   \n",
       "601                    DSL                   No                  Yes   \n",
       "6469                  None  No internet service  No internet service   \n",
       "5729                   DSL                  Yes                  Yes   \n",
       "1163                   DSL                   No                   No   \n",
       "\n",
       "      contract_type_id   contract_type paperless_billing  payment_type_id  \\\n",
       "5767                 3        Two year                No                4   \n",
       "601                  1  Month-to-month               Yes                3   \n",
       "6469                 3        Two year                No                2   \n",
       "5729                 3        Two year                No                2   \n",
       "1163                 1  Month-to-month                No                3   \n",
       "\n",
       "                   payment_type  monthly_charges  total_charges  churn  \\\n",
       "5767    Credit card (automatic)         0.671642        6223.80      0   \n",
       "601   Bank transfer (automatic)         0.473134        1679.65      0   \n",
       "6469               Mailed check         0.020896          20.35      0   \n",
       "5729               Mailed check         0.471642        3047.15      0   \n",
       "1163  Bank transfer (automatic)         0.424378         551.95      0   \n",
       "\n",
       "     phone_service_type                  family            streaming  \\\n",
       "5767     Multiple lines                 Partner        TV and movies   \n",
       "601         Single line                  Single               Movies   \n",
       "6469        Single line  Partner and dependents  No internet service   \n",
       "5729        Single line                 Partner                 None   \n",
       "1163        Single line                 Partner                   TV   \n",
       "\n",
       "        online_protection  tenure_years  \n",
       "5767  Security and backup           6.0  \n",
       "601                Backup           2.0  \n",
       "6469  No internet service           0.0  \n",
       "5729  Security and backup           4.0  \n",
       "1163             Security           1.0  "
      ]
     },
     "execution_count": 3,
     "metadata": {},
     "output_type": "execute_result"
    }
   ],
   "source": [
    "train.head()"
   ]
  },
  {
   "cell_type": "markdown",
   "metadata": {},
   "source": [
    "# Modeling"
   ]
  },
  {
   "cell_type": "code",
   "execution_count": 4,
   "metadata": {},
   "outputs": [],
   "source": [
    "# identifying train features and target\n",
    "X_train = train[[\"senior_citizen\", \"tenure\", \"monthly_charges\"]]\n",
    "y_train = train[[\"churn\"]]\n",
    "\n",
    "# identifying validate features and target\n",
    "X_validate = validate[[\"senior_citizen\", \"tenure\", \"monthly_charges\"]]\n",
    "y_validate = validate[[\"churn\"]]\n",
    "\n",
    "# identifying test features and target\n",
    "X_test = test[[\"senior_citizen\", \"tenure\", \"monthly_charges\"]]\n",
    "y_test = test[[\"churn\"]]"
   ]
  },
  {
   "cell_type": "code",
   "execution_count": 5,
   "metadata": {},
   "outputs": [],
   "source": [
    "evaluation = pd.DataFrame({\n",
    "    \"actual\": train.churn,\n",
    "})"
   ]
  },
  {
   "cell_type": "markdown",
   "metadata": {},
   "source": [
    "---\n",
    "## Logistic Regression"
   ]
  },
  {
   "cell_type": "code",
   "execution_count": 6,
   "metadata": {},
   "outputs": [
    {
     "name": "stdout",
     "output_type": "stream",
     "text": [
      "Train Accuracy: 79.23%\n"
     ]
    }
   ],
   "source": [
    "logit = LogisticRegression()\n",
    "logit.fit(X_train, y_train.churn)\n",
    "evaluation[\"churn ~ senior_citizen + tenure + monthly_charges (logit)\"] = logit.predict(X_train)\n",
    "\n",
    "print(f\"Train Accuracy: {logit.score(X_train, y_train.churn):.2%}\")"
   ]
  },
  {
   "cell_type": "code",
   "execution_count": 7,
   "metadata": {},
   "outputs": [
    {
     "data": {
      "text/html": [
       "<div>\n",
       "<style scoped>\n",
       "    .dataframe tbody tr th:only-of-type {\n",
       "        vertical-align: middle;\n",
       "    }\n",
       "\n",
       "    .dataframe tbody tr th {\n",
       "        vertical-align: top;\n",
       "    }\n",
       "\n",
       "    .dataframe thead th {\n",
       "        text-align: right;\n",
       "    }\n",
       "</style>\n",
       "<table border=\"1\" class=\"dataframe\">\n",
       "  <thead>\n",
       "    <tr style=\"text-align: right;\">\n",
       "      <th>churn ~ senior_citizen + tenure + monthly_charges (logit)</th>\n",
       "      <th>0</th>\n",
       "      <th>1</th>\n",
       "    </tr>\n",
       "    <tr>\n",
       "      <th>actual</th>\n",
       "      <th></th>\n",
       "      <th></th>\n",
       "    </tr>\n",
       "  </thead>\n",
       "  <tbody>\n",
       "    <tr>\n",
       "      <th>0</th>\n",
       "      <td>0.674490</td>\n",
       "      <td>0.059744</td>\n",
       "    </tr>\n",
       "    <tr>\n",
       "      <th>1</th>\n",
       "      <td>0.147937</td>\n",
       "      <td>0.117828</td>\n",
       "    </tr>\n",
       "  </tbody>\n",
       "</table>\n",
       "</div>"
      ],
      "text/plain": [
       "churn ~ senior_citizen + tenure + monthly_charges (logit)         0         1\n",
       "actual                                                                       \n",
       "0                                                          0.674490  0.059744\n",
       "1                                                          0.147937  0.117828"
      ]
     },
     "execution_count": 7,
     "metadata": {},
     "output_type": "execute_result"
    }
   ],
   "source": [
    "cm = pd.crosstab(evaluation[\"actual\"], evaluation[\"churn ~ senior_citizen + tenure + monthly_charges (logit)\"], normalize=True)\n",
    "cm"
   ]
  },
  {
   "cell_type": "code",
   "execution_count": 23,
   "metadata": {},
   "outputs": [
    {
     "data": {
      "text/html": [
       "<div>\n",
       "<style scoped>\n",
       "    .dataframe tbody tr th:only-of-type {\n",
       "        vertical-align: middle;\n",
       "    }\n",
       "\n",
       "    .dataframe tbody tr th {\n",
       "        vertical-align: top;\n",
       "    }\n",
       "\n",
       "    .dataframe thead th {\n",
       "        text-align: right;\n",
       "    }\n",
       "</style>\n",
       "<table border=\"1\" class=\"dataframe\">\n",
       "  <thead>\n",
       "    <tr style=\"text-align: right;\">\n",
       "      <th></th>\n",
       "      <th>0</th>\n",
       "      <th>1</th>\n",
       "      <th>accuracy</th>\n",
       "      <th>macro avg</th>\n",
       "      <th>weighted avg</th>\n",
       "    </tr>\n",
       "  </thead>\n",
       "  <tbody>\n",
       "    <tr>\n",
       "      <th>precision</th>\n",
       "      <td>0.820121</td>\n",
       "      <td>0.663551</td>\n",
       "      <td>0.792319</td>\n",
       "      <td>0.741836</td>\n",
       "      <td>0.778510</td>\n",
       "    </tr>\n",
       "    <tr>\n",
       "      <th>recall</th>\n",
       "      <td>0.918631</td>\n",
       "      <td>0.443354</td>\n",
       "      <td>0.792319</td>\n",
       "      <td>0.680993</td>\n",
       "      <td>0.792319</td>\n",
       "    </tr>\n",
       "    <tr>\n",
       "      <th>f1-score</th>\n",
       "      <td>0.866585</td>\n",
       "      <td>0.531551</td>\n",
       "      <td>0.792319</td>\n",
       "      <td>0.699068</td>\n",
       "      <td>0.777545</td>\n",
       "    </tr>\n",
       "    <tr>\n",
       "      <th>support</th>\n",
       "      <td>3097.000000</td>\n",
       "      <td>1121.000000</td>\n",
       "      <td>0.792319</td>\n",
       "      <td>4218.000000</td>\n",
       "      <td>4218.000000</td>\n",
       "    </tr>\n",
       "  </tbody>\n",
       "</table>\n",
       "</div>"
      ],
      "text/plain": [
       "                     0            1  accuracy    macro avg  weighted avg\n",
       "precision     0.820121     0.663551  0.792319     0.741836      0.778510\n",
       "recall        0.918631     0.443354  0.792319     0.680993      0.792319\n",
       "f1-score      0.866585     0.531551  0.792319     0.699068      0.777545\n",
       "support    3097.000000  1121.000000  0.792319  4218.000000   4218.000000"
      ]
     },
     "execution_count": 23,
     "metadata": {},
     "output_type": "execute_result"
    }
   ],
   "source": [
    "cr = pd.DataFrame(classification_report(evaluation[\"actual\"], evaluation[\"churn ~ senior_citizen + tenure + monthly_charges (logit)\"], output_dict=True))\n",
    "cr"
   ]
  },
  {
   "cell_type": "markdown",
   "metadata": {},
   "source": [
    "---\n",
    "## Decision Tree"
   ]
  },
  {
   "cell_type": "code",
   "execution_count": 10,
   "metadata": {},
   "outputs": [
    {
     "name": "stdout",
     "output_type": "stream",
     "text": [
      "Train Accuracy: 78.26%\n"
     ]
    }
   ],
   "source": [
    "clf = DecisionTreeClassifier(max_depth=2)\n",
    "clf.fit(X_train, y_train.churn)\n",
    "evaluation[\"churn ~ senior_citizen + tenure + monthly_charges (clf3)\"] = clf.predict(X_train)\n",
    "\n",
    "print(f\"Train Accuracy: {clf.score(X_train, y_train.churn):.2%}\")"
   ]
  },
  {
   "cell_type": "code",
   "execution_count": 13,
   "metadata": {},
   "outputs": [
    {
     "name": "stdout",
     "output_type": "stream",
     "text": [
      "              precision    recall  f1-score   support\n",
      "\n",
      "           0       0.81      0.91      0.86      3097\n",
      "           1       0.64      0.42      0.51      1121\n",
      "\n",
      "    accuracy                           0.78      4218\n",
      "   macro avg       0.73      0.67      0.68      4218\n",
      "weighted avg       0.77      0.78      0.77      4218\n",
      "\n"
     ]
    }
   ],
   "source": [
    "print(classification_report(evaluation[\"actual\"], evaluation[\"churn ~ senior_citizen + tenure + monthly_charges (clf3)\"]))"
   ]
  },
  {
   "cell_type": "code",
   "execution_count": 14,
   "metadata": {},
   "outputs": [
    {
     "name": "stdout",
     "output_type": "stream",
     "text": [
      "Train Accuracy: 79.61%\n"
     ]
    }
   ],
   "source": [
    "clf = DecisionTreeClassifier(max_depth=5)\n",
    "clf.fit(X_train, y_train.churn)\n",
    "evaluation[\"churn ~ senior_citizen + tenure + monthly_charges (clf5)\"] = clf.predict(X_train)\n",
    "\n",
    "print(f\"Train Accuracy: {clf.score(X_train, y_train.churn):.2%}\")"
   ]
  },
  {
   "cell_type": "code",
   "execution_count": 15,
   "metadata": {},
   "outputs": [
    {
     "name": "stdout",
     "output_type": "stream",
     "text": [
      "              precision    recall  f1-score   support\n",
      "\n",
      "           0       0.83      0.92      0.87      3097\n",
      "           1       0.67      0.46      0.55      1121\n",
      "\n",
      "    accuracy                           0.80      4218\n",
      "   macro avg       0.75      0.69      0.71      4218\n",
      "weighted avg       0.78      0.80      0.78      4218\n",
      "\n"
     ]
    }
   ],
   "source": [
    "print(classification_report(evaluation[\"actual\"], evaluation[\"churn ~ senior_citizen + tenure + monthly_charges (clf5)\"]))"
   ]
  },
  {
   "cell_type": "markdown",
   "metadata": {},
   "source": [
    "---\n",
    "## Random Forest"
   ]
  },
  {
   "cell_type": "code",
   "execution_count": 16,
   "metadata": {},
   "outputs": [
    {
     "name": "stdout",
     "output_type": "stream",
     "text": [
      "Train Accuracy: 80.61%\n"
     ]
    }
   ],
   "source": [
    "rf = RandomForestClassifier(min_samples_leaf=3, max_depth=6)\n",
    "rf.fit(X_train, y_train.churn)\n",
    "evaluation[\"churn ~ senior_citizen + tenure + monthly_charges (rf; 3/6)\"] = rf.predict(X_train)\n",
    "\n",
    "print(f\"Train Accuracy: {rf.score(X_train, y_train.churn):.2%}\")"
   ]
  },
  {
   "cell_type": "code",
   "execution_count": 17,
   "metadata": {},
   "outputs": [
    {
     "name": "stdout",
     "output_type": "stream",
     "text": [
      "              precision    recall  f1-score   support\n",
      "\n",
      "           0       0.82      0.94      0.88      3097\n",
      "           1       0.72      0.45      0.55      1121\n",
      "\n",
      "    accuracy                           0.81      4218\n",
      "   macro avg       0.77      0.69      0.71      4218\n",
      "weighted avg       0.80      0.81      0.79      4218\n",
      "\n"
     ]
    }
   ],
   "source": [
    "print(classification_report(evaluation[\"actual\"], evaluation[\"churn ~ senior_citizen + tenure + monthly_charges (rf; 3/6)\"]))"
   ]
  },
  {
   "cell_type": "markdown",
   "metadata": {},
   "source": [
    "---\n",
    "## KNN"
   ]
  },
  {
   "cell_type": "code",
   "execution_count": 18,
   "metadata": {},
   "outputs": [
    {
     "name": "stdout",
     "output_type": "stream",
     "text": [
      "Train Accuracy: 83.40%\n"
     ]
    }
   ],
   "source": [
    "knn = KNeighborsClassifier()\n",
    "knn.fit(X_train, y_train.churn)\n",
    "evaluation[\"churn ~ senior_citizen + tenure + monthly_charges (knn)\"] = knn.predict(X_train)\n",
    "\n",
    "print(f\"Train Accuracy: {knn.score(X_train, y_train.churn):.2%}\")"
   ]
  },
  {
   "cell_type": "code",
   "execution_count": 19,
   "metadata": {},
   "outputs": [
    {
     "name": "stdout",
     "output_type": "stream",
     "text": [
      "              precision    recall  f1-score   support\n",
      "\n",
      "           0       0.86      0.92      0.89      3097\n",
      "           1       0.74      0.58      0.65      1121\n",
      "\n",
      "    accuracy                           0.83      4218\n",
      "   macro avg       0.80      0.75      0.77      4218\n",
      "weighted avg       0.83      0.83      0.83      4218\n",
      "\n"
     ]
    }
   ],
   "source": [
    "print(classification_report(evaluation[\"actual\"], evaluation[\"churn ~ senior_citizen + tenure + monthly_charges (knn)\"]))"
   ]
  },
  {
   "cell_type": "code",
   "execution_count": null,
   "metadata": {},
   "outputs": [],
   "source": []
  }
 ],
 "metadata": {
  "kernelspec": {
   "display_name": "Python 3",
   "language": "python",
   "name": "python3"
  },
  "language_info": {
   "codemirror_mode": {
    "name": "ipython",
    "version": 3
   },
   "file_extension": ".py",
   "mimetype": "text/x-python",
   "name": "python",
   "nbconvert_exporter": "python",
   "pygments_lexer": "ipython3",
   "version": "3.7.4"
  }
 },
 "nbformat": 4,
 "nbformat_minor": 2
}
